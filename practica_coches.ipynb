{
 "cells": [
  {
   "cell_type": "code",
   "execution_count": 1,
   "id": "702b0b45",
   "metadata": {},
   "outputs": [],
   "source": [
    "#1. Leer y visualizar el video carretera.mp4\n",
    "import cv2\n",
    "import numpy as np \n",
    "import matplotlib.pyplot as plt\n",
    "video = cv2.VideoCapture('trafico01.mp4')\n",
    "frames = []\n",
    "\n",
    "while True:\n",
    "    ret, frame = video.read()\n",
    "    if not ret:\n",
    "        break\n",
    "    frames.append(frame)\n",
    "    cv2.imshow('Vídeo carretera', frame)\n",
    "    cv2.waitKey(25)\n",
    "video.release()\n",
    "cv2.destroyAllWindows()"
   ]
  },
  {
   "cell_type": "code",
   "execution_count": null,
   "id": "69d93532",
   "metadata": {},
   "outputs": [],
   "source": [
    "frames_np = np.array(frames, dtype=np.float32)\n",
    "\n",
    "fondo_promedio = np.mean(frames_np, axis=0)\n",
    "\n",
    "fondo_promedio_uint8 = fondo_promedio.astype(np.uint8)\n",
    "\n",
    "plt.imshow(cv2.cvtColor(fondo_promedio_uint8, cv2.COLOR_BGR2RGB))\n",
    "plt.title(\"Fondo promedio sin coches\")\n",
    "plt.axis('off')\n",
    "plt.show()"
   ]
  },
  {
   "cell_type": "code",
   "execution_count": null,
   "id": "d1822a84",
   "metadata": {},
   "outputs": [],
   "source": [
    "# Restar el fondo y binarizar\n",
    "T = 27\n",
    "\n",
    "for i, frame in enumerate(frames):\n",
    "\n",
    "    diferencia = cv2.absdiff(frame, fondo_promedio_uint8)\n",
    "    \n",
    "    gris = cv2.cvtColor(diferencia, cv2.COLOR_BGR2GRAY)\n",
    "    \n",
    "    _, binario = cv2.threshold(gris, T, 255, cv2.THRESH_BINARY)\n",
    "    \n",
    "    cv2.imshow('Binarizado', binario)\n",
    "    \n",
    "    if cv2.waitKey(25) & 0xFF == ord('q'):\n",
    "        break\n",
    "\n",
    "cv2.destroyAllWindows()"
   ]
  },
  {
   "cell_type": "code",
   "execution_count": null,
   "id": "c4a834c2",
   "metadata": {},
   "outputs": [],
   "source": [
    "T = 27\n",
    "\n",
    "for frame in frames:\n",
    "\n",
    "    diferencia = cv2.absdiff(frame, fondo_promedio_uint8)\n",
    "    \n",
    "    gris = cv2.cvtColor(diferencia, cv2.COLOR_BGR2GRAY)\n",
    "    \n",
    "    _, binario = cv2.threshold(gris, T, 255, cv2.THRESH_BINARY)\n",
    "    \n",
    "    contornos, _ = cv2.findContours(binario, cv2.RETR_EXTERNAL, cv2.CHAIN_APPROX_SIMPLE)\n",
    "    \n",
    "    img = frame.copy()\n",
    "    \n",
    "    for contorno in contornos:\n",
    "        if cv2.contourArea(contorno) > 1500:  \n",
    "            x, y, w, h = cv2.boundingRect(contorno)\n",
    "            cv2.rectangle(img, (x, y), (x+w, y+h), (0, 255, 0), 2)\n",
    "    \n",
    "    \n",
    "    \n",
    "    cv2.imshow('Deteccion de coches', img)\n",
    "    \n",
    "    if cv2.waitKey(25) & 0xFF == ord('q'):\n",
    "        break\n",
    "\n",
    "cv2.destroyAllWindows()"
   ]
  }
 ],
 "metadata": {
  "kernelspec": {
   "display_name": "Python 3",
   "language": "python",
   "name": "python3"
  },
  "language_info": {
   "codemirror_mode": {
    "name": "ipython",
    "version": 3
   },
   "file_extension": ".py",
   "mimetype": "text/x-python",
   "name": "python",
   "nbconvert_exporter": "python",
   "pygments_lexer": "ipython3",
   "version": "3.11.9"
  }
 },
 "nbformat": 4,
 "nbformat_minor": 5
}
